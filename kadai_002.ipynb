{
 "cells": [
  {
   "cell_type": "code",
   "execution_count": 21,
   "id": "4c89f1fd",
   "metadata": {},
   "outputs": [],
   "source": [
    "import pandas as pd\n",
    "\n",
    "#売上データ\n",
    "data = {\n",
    "    \"日付\" : [\"2023-05-17\",\"2023-05-18\",\"2023-05-19\",\"2023-05-20\",\"2023-05-21\"],\n",
    "    \"社員名\" : [\"山田\",\"佐藤\",\"鈴木\",\"田中\",\"高橋\"],\n",
    "    \"売上\" : [100,200,150,300,250],\n",
    "    \"部門\" : [\"メーカー\",\"代理店\",\"メーカー\",\"商社\",\"代理店\"]\n",
    "}\n",
    "\n",
    "\n",
    "#データフレーム\n",
    "df = pd.DataFrame(data)\n",
    "\n",
    "\n",
    "#平均売上\n",
    "df[\"平均売上\"] = df[\"売上\"].mean()\n",
    "average = df[\"売上\"].mean()\n",
    "\n",
    "\n",
    "#業績ランク関数の定義\n",
    "def performance(earn):\n",
    "    result = \"\"\n",
    "    if earn >=  (average + 50):\n",
    "        result = \"A\"\n",
    "    elif earn >= average:\n",
    "        result = \"B\"\n",
    "    else :\n",
    "        result = \"C\"\n",
    "    return result\n",
    "\n",
    "\n",
    "#「業績ランク」列の作成\n",
    "df[\"業績ランク\"] = df[\"売上\"].apply(performance)\n",
    "\n",
    "\n",
    "# Excelファイルを作成\n",
    "writer = pd.ExcelWriter(\"業績.xlsx\")\n",
    "\n",
    "\n",
    "# DataFrameオブジェクトをExcelファイルに書き込む\n",
    "df.to_excel(writer, sheet_name = \"Sheet\", index = False)\n",
    "\n",
    "\n",
    "# Excelファイルを閉じる\n",
    "writer.close()"
   ]
  }
 ],
 "metadata": {
  "kernelspec": {
   "display_name": "Python 3 (ipykernel)",
   "language": "python",
   "name": "python3"
  },
  "language_info": {
   "codemirror_mode": {
    "name": "ipython",
    "version": 3
   },
   "file_extension": ".py",
   "mimetype": "text/x-python",
   "name": "python",
   "nbconvert_exporter": "python",
   "pygments_lexer": "ipython3",
   "version": "3.11.3"
  }
 },
 "nbformat": 4,
 "nbformat_minor": 5
}
