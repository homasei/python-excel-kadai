{
 "cells": [
  {
   "cell_type": "code",
   "execution_count": 22,
   "id": "b79ffa8b",
   "metadata": {},
   "outputs": [],
   "source": [
    "import pandas as pd\n",
    "import openpyxl\n",
    "from openpyxl.styles import PatternFill\n",
    "\n",
    "#対象データの取り込み\n",
    "file_list = [\"2022_年間売上表.xlsx\",\"2023_年間売上表.xlsx\"]\n",
    "\n",
    "#空のデータフレームを作成\n",
    "df = pd.DataFrame()\n",
    "\n",
    "#ファイルの取り込み処理\n",
    "for file_name in file_list:\n",
    "    temp_df = pd.read_excel(file_name,skiprows=1)\n",
    "    temp_df.columns = [\"売上年\",\"商品\",\"金額（千円）\"]\n",
    "    df = pd.concat([df, temp_df], ignore_index=True)    \n",
    "        \n",
    "result = df.groupby([\"商品\",\"売上年\"])[\"金額（千円）\"].sum().reset_index()\n",
    "\n",
    "\n",
    "#excelの保存\n",
    "writer = pd.ExcelWriter(\"売上集計表.xlsx\")\n",
    "result.to_excel(writer, sheet_name=\"Sheet1\", index=False)\n",
    "writer.close()\n",
    "\n",
    "#作成したexcelの整形と保存\n",
    "workbook = openpyxl.load_workbook(\"売上集計表.xlsx\")\n",
    "sheet = workbook.active\n",
    "change_color = sheet[\"A1:C1\"]\n",
    "fill = PatternFill(patternType=\"solid\", fgColor=\"F2F2F2\")\n",
    "\n",
    "for row in change_color:\n",
    "    for cell in row:\n",
    "        cell.fill = fill\n",
    "\n",
    "workbook.save(\"売上集計表.xlsx\")"
   ]
  }
 ],
 "metadata": {
  "kernelspec": {
   "display_name": "Python 3 (ipykernel)",
   "language": "python",
   "name": "python3"
  },
  "language_info": {
   "codemirror_mode": {
    "name": "ipython",
    "version": 3
   },
   "file_extension": ".py",
   "mimetype": "text/x-python",
   "name": "python",
   "nbconvert_exporter": "python",
   "pygments_lexer": "ipython3",
   "version": "3.11.3"
  }
 },
 "nbformat": 4,
 "nbformat_minor": 5
}
